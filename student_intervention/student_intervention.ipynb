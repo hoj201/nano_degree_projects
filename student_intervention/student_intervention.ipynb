{
 "cells": [
  {
   "cell_type": "markdown",
   "metadata": {},
   "source": [
    "# Project 2: Supervised Learning\n",
    "### Building a Student Intervention System"
   ]
  },
  {
   "cell_type": "markdown",
   "metadata": {},
   "source": [
    "## 1. Classification vs Regression\n",
    "\n",
    "Your goal is to identify students who might need early intervention - which type of supervised machine learning problem is this, classification or regression? Why?"
   ]
  },
  {
   "cell_type": "markdown",
   "metadata": {},
   "source": [
    "**Answer**: Classification.  This is because the output of our function should tell us weather or not to intervene with a given student.  This means constructing a boolean function."
   ]
  },
  {
   "cell_type": "markdown",
   "metadata": {},
   "source": [
    "## 2. Exploring the Data\n",
    "\n",
    "Let's go ahead and read in the student dataset first.\n",
    "\n",
    "_To execute a code cell, click inside it and press **Shift+Enter**._"
   ]
  },
  {
   "cell_type": "code",
   "execution_count": 2,
   "metadata": {
    "collapsed": false
   },
   "outputs": [],
   "source": [
    "# Import libraries\n",
    "import numpy as np\n",
    "import pandas as pd"
   ]
  },
  {
   "cell_type": "code",
   "execution_count": 3,
   "metadata": {
    "collapsed": false
   },
   "outputs": [
    {
     "name": "stdout",
     "output_type": "stream",
     "text": [
      "Student data read successfully!\n"
     ]
    }
   ],
   "source": [
    "# Read student data\n",
    "student_data = pd.read_csv(\"student-data.csv\")\n",
    "print \"Student data read successfully!\"\n",
    "# Note: The last column 'passed' is the target/label, all other are feature columns"
   ]
  },
  {
   "cell_type": "markdown",
   "metadata": {},
   "source": [
    "Now, can you find out the following facts about the dataset?\n",
    "- Total number of students\n",
    "- Number of students who passed\n",
    "- Number of students who failed\n",
    "- Graduation rate of the class (%)\n",
    "- Number of features\n",
    "\n",
    "_Use the code block below to compute these values. Instructions/steps are marked using **TODO**s._"
   ]
  },
  {
   "cell_type": "code",
   "execution_count": 4,
   "metadata": {
    "collapsed": false
   },
   "outputs": [
    {
     "name": "stdout",
     "output_type": "stream",
     "text": [
      "Total number of students: 395\n",
      "Number of students who passed: 265\n",
      "Number of students who failed: 130\n",
      "Number of features: 30\n",
      "Graduation rate of the class: 67.09%\n"
     ]
    }
   ],
   "source": [
    "# TODO: Compute desired values - replace each '?' with an appropriate expression/function call\n",
    "n_students = student_data.index.size\n",
    "n_features = student_data.columns.size - 1\n",
    "n_passed = student_data[ student_data['passed'] == 'yes' ].index.size\n",
    "n_failed = n_students - n_passed\n",
    "grad_rate = 100*float(n_passed) / float(n_students)\n",
    "print \"Total number of students: {}\".format(n_students)\n",
    "print \"Number of students who passed: {}\".format(n_passed)\n",
    "print \"Number of students who failed: {}\".format(n_failed)\n",
    "print \"Number of features: {}\".format(n_features)\n",
    "print \"Graduation rate of the class: {:.2f}%\".format(grad_rate)"
   ]
  },
  {
   "cell_type": "markdown",
   "metadata": {},
   "source": [
    "## 3. Preparing the Data\n",
    "In this section, we will prepare the data for modeling, training and testing.\n",
    "\n",
    "### Identify feature and target columns\n",
    "It is often the case that the data you obtain contains non-numeric features. This can be a problem, as most machine learning algorithms expect numeric data to perform computations with.\n",
    "\n",
    "Let's first separate our data into feature and target columns, and see if any features are non-numeric.<br/>\n",
    "**Note**: For this dataset, the last column (\"passed\") is the target or label we are trying to predict."
   ]
  },
  {
   "cell_type": "code",
   "execution_count": 5,
   "metadata": {
    "collapsed": false
   },
   "outputs": [
    {
     "name": "stdout",
     "output_type": "stream",
     "text": [
      "Feature column(s):-\n",
      "['school', 'sex', 'age', 'address', 'famsize', 'Pstatus', 'Medu', 'Fedu', 'Mjob', 'Fjob', 'reason', 'guardian', 'traveltime', 'studytime', 'failures', 'schoolsup', 'famsup', 'paid', 'activities', 'nursery', 'higher', 'internet', 'romantic', 'famrel', 'freetime', 'goout', 'Dalc', 'Walc', 'health', 'absences']\n",
      "Target column: passed\n",
      "\n",
      "Feature values:-\n",
      "  school sex  age address famsize Pstatus  Medu  Fedu     Mjob      Fjob  \\\n",
      "0     GP   F   18       U     GT3       A     4     4  at_home   teacher   \n",
      "1     GP   F   17       U     GT3       T     1     1  at_home     other   \n",
      "2     GP   F   15       U     LE3       T     1     1  at_home     other   \n",
      "3     GP   F   15       U     GT3       T     4     2   health  services   \n",
      "4     GP   F   16       U     GT3       T     3     3    other     other   \n",
      "\n",
      "    ...    higher internet  romantic  famrel  freetime goout Dalc Walc health  \\\n",
      "0   ...       yes       no        no       4         3     4    1    1      3   \n",
      "1   ...       yes      yes        no       5         3     3    1    1      3   \n",
      "2   ...       yes      yes        no       4         3     2    2    3      3   \n",
      "3   ...       yes      yes       yes       3         2     2    1    1      5   \n",
      "4   ...       yes       no        no       4         3     2    1    2      5   \n",
      "\n",
      "  absences  \n",
      "0        6  \n",
      "1        4  \n",
      "2       10  \n",
      "3        2  \n",
      "4        4  \n",
      "\n",
      "[5 rows x 30 columns]\n"
     ]
    }
   ],
   "source": [
    "# Extract feature (X) and target (y) columns\n",
    "feature_cols = list(student_data.columns[:-1])  # all columns but last are features\n",
    "target_col = student_data.columns[-1]  # last column is the target/label\n",
    "print \"Feature column(s):-\\n{}\".format(feature_cols)\n",
    "print \"Target column: {}\".format(target_col)\n",
    "\n",
    "X_all = student_data[feature_cols]  # feature values for all students\n",
    "y_all = student_data[target_col]  # corresponding targets/labels\n",
    "print \"\\nFeature values:-\"\n",
    "print X_all.head()  # print the first 5 rows"
   ]
  },
  {
   "cell_type": "markdown",
   "metadata": {},
   "source": [
    "### Preprocess feature columns\n",
    "\n",
    "As you can see, there are several non-numeric columns that need to be converted! Many of them are simply `yes`/`no`, e.g. `internet`. These can be reasonably converted into `1`/`0` (binary) values.\n",
    "\n",
    "Other columns, like `Mjob` and `Fjob`, have more than two values, and are known as _categorical variables_. The recommended way to handle such a column is to create as many columns as possible values (e.g. `Fjob_teacher`, `Fjob_other`, `Fjob_services`, etc.), and assign a `1` to one of them and `0` to all others.\n",
    "\n",
    "These generated columns are sometimes called _dummy variables_, and we will use the [`pandas.get_dummies()`](http://pandas.pydata.org/pandas-docs/stable/generated/pandas.get_dummies.html?highlight=get_dummies#pandas.get_dummies) function to perform this transformation."
   ]
  },
  {
   "cell_type": "code",
   "execution_count": 6,
   "metadata": {
    "collapsed": false
   },
   "outputs": [
    {
     "name": "stdout",
     "output_type": "stream",
     "text": [
      "Processed feature columns (48):-\n",
      "['school_GP', 'school_MS', 'sex_F', 'sex_M', 'age', 'address_R', 'address_U', 'famsize_GT3', 'famsize_LE3', 'Pstatus_A', 'Pstatus_T', 'Medu', 'Fedu', 'Mjob_at_home', 'Mjob_health', 'Mjob_other', 'Mjob_services', 'Mjob_teacher', 'Fjob_at_home', 'Fjob_health', 'Fjob_other', 'Fjob_services', 'Fjob_teacher', 'reason_course', 'reason_home', 'reason_other', 'reason_reputation', 'guardian_father', 'guardian_mother', 'guardian_other', 'traveltime', 'studytime', 'failures', 'schoolsup', 'famsup', 'paid', 'activities', 'nursery', 'higher', 'internet', 'romantic', 'famrel', 'freetime', 'goout', 'Dalc', 'Walc', 'health', 'absences']\n"
     ]
    }
   ],
   "source": [
    "# Preprocess feature columns\n",
    "def preprocess_features(X):\n",
    "    outX = pd.DataFrame(index=X.index)  # output dataframe, initially empty\n",
    "\n",
    "    # Check each column\n",
    "    for col, col_data in X.iteritems():\n",
    "        # If data type is non-numeric, try to replace all yes/no values with 1/0\n",
    "        if col_data.dtype == object:\n",
    "            col_data = col_data.replace(['yes', 'no'], [1, 0])\n",
    "        # Note: This should change the data type for yes/no columns to int\n",
    "\n",
    "        # If still non-numeric, convert to one or more dummy variables\n",
    "        if col_data.dtype == object:\n",
    "            col_data = pd.get_dummies(col_data, prefix=col)  # e.g. 'school' => 'school_GP', 'school_MS'\n",
    "\n",
    "        outX = outX.join(col_data)  # collect column(s) in output dataframe\n",
    "\n",
    "    return outX\n",
    "\n",
    "X_all = preprocess_features(X_all)\n",
    "y_all = y_all.replace(['yes','no'],[1,0])\n",
    "print \"Processed feature columns ({}):-\\n{}\".format(len(X_all.columns), list(X_all.columns))"
   ]
  },
  {
   "cell_type": "markdown",
   "metadata": {},
   "source": [
    "### Split data into training and test sets\n",
    "\n",
    "So far, we have converted all _categorical_ features into numeric values. In this next step, we split the data (both features and corresponding labels) into training and test sets."
   ]
  },
  {
   "cell_type": "code",
   "execution_count": 7,
   "metadata": {
    "collapsed": false
   },
   "outputs": [
    {
     "name": "stdout",
     "output_type": "stream",
     "text": [
      "Training set: 300 samples\n",
      "Test set: 95 samples\n"
     ]
    }
   ],
   "source": [
    "# First, decide how many training vs test samples you want\n",
    "num_all = student_data.shape[0]  # same as len(student_data)\n",
    "num_train = 300  # about 75% of the data\n",
    "num_test = num_all - num_train\n",
    "\n",
    "# TODO: Then, select features (X) and corresponding labels (y) for the training and test sets\n",
    "# Note: Shuffle the data or randomly select samples to avoid any bias due to ordering in the dataset\n",
    "from sklearn.cross_validation import train_test_split\n",
    "X_train, X_test, y_train, y_test = train_test_split( X_all , y_all , test_size = num_test, random_state=42)\n",
    "\n",
    "print \"Training set: {} samples\".format(X_train.shape[0])\n",
    "print \"Test set: {} samples\".format(X_test.shape[0])\n",
    "# Note: If you need a validation set, extract it from within training data"
   ]
  },
  {
   "cell_type": "markdown",
   "metadata": {},
   "source": [
    "## 4. Training and Evaluating Models\n",
    "Choose 3 supervised learning models that are available in scikit-learn, and appropriate for this problem. For each model:\n",
    "\n",
    "- What is the theoretical O(n) time & space complexity in terms of input size?\n",
    "- What are the general applications of this model? What are its strengths and weaknesses?\n",
    "- Given what you know about the data so far, why did you choose this model to apply?\n",
    "- Fit this model to the training data, try to predict labels (for both training and test sets), and measure the F<sub>1</sub> score. Repeat this process with different training set sizes (100, 200, 300), keeping test set constant.\n",
    "\n",
    "Produce a table showing training time, prediction time, F<sub>1</sub> score on training set and F<sub>1</sub> score on test set, for each training set size.\n",
    "\n",
    "Note: You need to produce 3 such tables - one for each model."
   ]
  },
  {
   "cell_type": "markdown",
   "metadata": {},
   "source": [
    "##Answer\n",
    "In the following $n_f$ denotes the number of featurs, and $n$ denotes the number of samples.\n",
    "\n",
    "###Decision Trees : \n",
    "- **Complexity:** I'm not sure how to compute the complexities for a generic decision tree.  However, if you assume that the data can be split perfectly at each level of the tree then you can calculate the following.  Training time is $O(n_f n_s^2 \\log(n_s))$ in time.  Query time is $O(\\log(n_f))$.  The storage cost of the tree is $O( n_f^2 )$.\n",
    "- **Applications:** Decision trees are useful when individual features can efficiently split the data.  For example, in the case of determining if it will rain, knowing weather or not there are clouds in the sky is a feature worth splitting your algorithm on.  Moreover, Decision trees are flexible with regards to the feature space.  The feature space can be numerical or categorical or a product of both.\n",
    "- **Strengths:**  Decisision trees are human interpretable (assuming the features are), and they are space efficient.  Morevoer, they have very low bias.  In the language of function spaces, the decision trees are generated by rectangular indicator functions on the feature space.  The function space generated by these box-functions is just the space of measurable function on the feature space (with range in the target set).  In otherwords, Decision trees have lots of expressive power.\n",
    "- **Weaknesses:**  The training algorithms are always suboptimal because the building of an optimal decision tree is an non-polynomial time problem (as far as we know).  One side-effect of this sub-optimality is that the classifier is unstable with respect to perturbations in the data.  Morevoer, Decision trees are subject to overfitting.  This is especially the case when the leaves contain only one member of the training set, which is the natural place where training ends unless you actively prevent this outcome through pruning or other variance reduction measures.\n",
    "- **Why should we condiser it?:**  We should consider decision trees because our data is a mixture of numerical and categorical.  Moreover, much of our data is binary, and thus well suited to the decision tree paradigm (if in fact a good decision tree can be found).\n",
    "\n",
    "**Performance:**\n",
    "\n",
    "training set size | training time |prediction times (training/test) | F<sub>1</sub> scores (training/test)\n",
    "----------------- | ------------- | --------------- | --------- \n",
    "100               | 0.002         | 0.001 / 0.000   | 1.000 / 0.603\n",
    "200               | 0.003         | 0.000 / 0.000   | 1.000 / 0.716\n",
    "300               | 0.004         | 0.000 / 0.000   | 1.000 / 0.600\n",
    "    \n",
    "###Naive Bayes : \n",
    "- **Complexity:** Training time is $O(1)$ in time and $O(n)$ in space.  Querying is (worst case scenario) $O(n)$ in time, and $O(1)$ in additional space.\n",
    "- **Applications:** Naive Bayes assumes that each piece of data is obtained independently of the others (in the sense of probability theory).  If this is in fact the case, then this algorithm might even be optimal if one can choose the correct model for $P(y \\mid x)$.  Verifying independence is typically not possible, but you can certainly accumulate evidence for this assumption.\n",
    "- **Strengths:**  Fast training time.  If you are only going to make a single query this might be a very efficient algorithm.  Additionally, if the independence assumption is true, Naive Bayes can have very low bias.\n",
    "- **Weaknesses:**  If your features are not independent, than this algorithm will not be good at determining the underlying (and possibly lower dimensional) structure of the data.  In otherwords, when the independence assumption is false, Naive Bayes will yield a predictor with high bias.  For example, if there are only two feature $(x_1,x_2)$ and if $x_1 = x_2$ (so independence is violated), an algorithm like a decision tree might be better because it will only use one of these features.  However, Naive Bayes will merely place a Guassian blob (or some sort of distribution) around each point in the training set when the symmetry of the data set should really allow for a \"line\\'s worth\" of blobs. Lastly, there is potential for overfitting, as Naive Bayes is a lazy learner and thus prone to simply memorizing the training set rather then generalizing it.\n",
    "This overfitting can be especially pronounced when the prediction algorithm encounters an input which is far away from its training data.  In this case $P(y \\mid x) \\propto P(y) \\prod P(x_i \\mid y)$.  If the label $y$ is absent then $P(y)$ is estimated to be $0$, which contradicts the fact that you just encountered it.  If $y$ has been encountered, but the feature vector $x$ is far from the training set then $P(x \\mid y)$ will be nearly $0$, and we get a bad estimator again.  I'm not sure if this is a serious disadvantage worth mentioning since any supervised algorithm should perform poorly on novel data that was not represented well in the training set.\n",
    "\n",
    "- **Why did you choose this?**  I have not tested for independence, however if the samples are independent, than this algorithm might beat the other algorithms I've chosen to test.  Many educators implicitly hold this indpendence assumption (at least in some high level sense) when they speak of each student being judged independently, so perhaps there is some merit to it.\n",
    "\n",
    "**Performance:**\n",
    "\n",
    "training set size | training time |prediction times (training/test) | F<sub>1</sub> scores (training/test)\n",
    "----------------- | ------------- | --------------- | --------- \n",
    "100               | 0.009         | 0.000 / 0.000   | 0.829 / 0.794\n",
    "200               | 0.001         | 0.001 / 0.000   | 0.827 / 0.779\n",
    "300               | 0.009         | 0.010 / 0.007   | 0.804 / 0.756\n",
    "    \n",
    "###K-nearest neighbors : \n",
    "- **Complexity:** Training is $O(1)$ in time and $O(n)$ in space.  Querying is $O( log(n)+k )$ in time if the feature vectors are sorted and $O(n+k)$ otherwise.  Querying is $O(1)$ additional space, in time.\n",
    "- **Applictions:** Such an algorithm is biased towards smoother data, and useful when the numer of queries is small.  Moreover, the algorithm is useful when the data is mixed between categorical and numerical.\n",
    "- **Strengths:** Very fast training time.  Highly flexible, as one can choose the distance function as well as $k$.  \n",
    "- **Weakness:** Perhaps it is too flexible.  It takes a lot of work to optimize the parameters.\n",
    "    When $k$ is small, then the training set might be too influential, and we might overfit (i.e. high variance).  When $k$ is large we might suffer from high bias.\n",
    "- **Reason for choosing this algorithm:** Unlike Naive Bayes, no such independence assumption is made.  Moreover, the metric can be chosen to specialize the algorithm to data sets with Boolean features and numerical features, such as what we have here.  The flexibility of this algorithms gives it more knobs to tweak and it might have superior performance to the other algorithms after doing a grid search over the parameter space.\n",
    "\n",
    "**Performance:**\n",
    "\n",
    "training set size | training time |prediction times (training/test) | F<sub>1</sub> scores (training/test)\n",
    "----------------- | ------------- | --------------- | --------- \n",
    "100               | 0.001         | 0.003 / 0.003   | 0.766 / 0.730\n",
    "200               | 0.001         | 0.014 / 0.006   | 0.841 / 0.727\n",
    "300               | 0.006         | 0.028 / 0.012   | 0.824 / 0.757\n",
    "    \n"
   ]
  },
  {
   "cell_type": "code",
   "execution_count": 8,
   "metadata": {
    "collapsed": false
   },
   "outputs": [],
   "source": [
    "# Train a model\n",
    "import time\n",
    "\n",
    "def train_classifier(clf, X_train, y_train):\n",
    "    print \"Training {}...\".format(clf.__class__.__name__)\n",
    "    start = time.time()\n",
    "    clf.fit(X_train, y_train)\n",
    "    end = time.time()\n",
    "    print \"Training time (secs): {:.3f}\".format(end - start)"
   ]
  },
  {
   "cell_type": "code",
   "execution_count": 9,
   "metadata": {
    "collapsed": false
   },
   "outputs": [],
   "source": [
    "# Predict on training set and compute F1 score\n",
    "from sklearn.metrics import f1_score\n",
    "\n",
    "def predict_labels(clf, features, target):\n",
    "    #print \"Predicting labels using {}...\".format(clf.__class__.__name__)\n",
    "    start = time.time()\n",
    "    y_pred = clf.predict(features)\n",
    "    end = time.time()\n",
    "    print \"Prediction time (secs): {:.3f}\".format(end - start)\n",
    "    return f1_score(target.values, y_pred, pos_label=1)"
   ]
  },
  {
   "cell_type": "code",
   "execution_count": 21,
   "metadata": {
    "collapsed": false
   },
   "outputs": [],
   "source": [
    "# Train and predict using different training set sizes\n",
    "def train_predict(clf, X_train, y_train, X_test, y_test):\n",
    "    print \"------------------------------------------\"\n",
    "    print \"Training set size: {}\".format(len(X_train))\n",
    "    train_classifier(clf, X_train, y_train)\n",
    "    print \"F1 score for training set: {}\".format(predict_labels(clf, X_train, y_train))\n",
    "    print \"F1 score for test set: {}\".format(predict_labels(clf, X_test, y_test))\n",
    "\n",
    "# TODO: Run the helper function above for desired subsets of training data\n",
    "# Note: Keep the test set constant"
   ]
  },
  {
   "cell_type": "code",
   "execution_count": 22,
   "metadata": {
    "collapsed": false
   },
   "outputs": [
    {
     "name": "stdout",
     "output_type": "stream",
     "text": [
      "------------------------------------------\n",
      "Training set size: 100\n",
      "Training DecisionTreeClassifier...\n",
      "Training time (secs): 0.002\n",
      "Prediction time (secs): 0.001\n",
      "F1 score for training set: 1.0\n",
      "Prediction time (secs): 0.000\n",
      "F1 score for test set: 0.603448275862\n",
      "------------------------------------------\n",
      "Training set size: 200\n",
      "Training DecisionTreeClassifier...\n",
      "Training time (secs): 0.003\n",
      "Prediction time (secs): 0.000\n",
      "F1 score for training set: 1.0\n",
      "Prediction time (secs): 0.000\n",
      "F1 score for test set: 0.716417910448\n",
      "------------------------------------------\n",
      "Training set size: 300\n",
      "Training DecisionTreeClassifier...\n",
      "Training time (secs): 0.004\n",
      "Prediction time (secs): 0.000\n",
      "F1 score for training set: 1.0\n",
      "Prediction time (secs): 0.000\n",
      "F1 score for test set: 0.6\n",
      "------------------------------------------\n",
      "Training set size: 100\n",
      "Training BernoulliNB...\n",
      "Training time (secs): 0.009\n",
      "Prediction time (secs): 0.000\n",
      "F1 score for training set: 0.828571428571\n",
      "Prediction time (secs): 0.000\n",
      "F1 score for test set: 0.794326241135\n",
      "------------------------------------------\n",
      "Training set size: 200\n",
      "Training BernoulliNB...\n",
      "Training time (secs): 0.001\n",
      "Prediction time (secs): 0.001\n",
      "F1 score for training set: 0.826666666667\n",
      "Prediction time (secs): 0.000\n",
      "F1 score for test set: 0.779411764706\n",
      "------------------------------------------\n",
      "Training set size: 300\n",
      "Training BernoulliNB...\n",
      "Training time (secs): 0.009\n",
      "Prediction time (secs): 0.001\n",
      "F1 score for training set: 0.803695150115\n",
      "Prediction time (secs): 0.001\n",
      "F1 score for test set: 0.755555555556\n",
      "------------------------------------------\n",
      "Training set size: 100\n",
      "Training KNeighborsClassifier...\n",
      "Training time (secs): 0.001\n",
      "Prediction time (secs): 0.003\n",
      "F1 score for training set: 0.765957446809\n",
      "Prediction time (secs): 0.003\n",
      "F1 score for test set: 0.729927007299\n",
      "------------------------------------------\n",
      "Training set size: 200\n",
      "Training KNeighborsClassifier...\n",
      "Training time (secs): 0.001\n",
      "Prediction time (secs): 0.013\n",
      "F1 score for training set: 0.84076433121\n",
      "Prediction time (secs): 0.006\n",
      "F1 score for test set: 0.727272727273\n",
      "------------------------------------------\n",
      "Training set size: 300\n",
      "Training KNeighborsClassifier...\n",
      "Training time (secs): 0.006\n",
      "Prediction time (secs): 0.025\n",
      "F1 score for training set: 0.824295010846\n",
      "Prediction time (secs): 0.008\n",
      "F1 score for test set: 0.757142857143\n"
     ]
    }
   ],
   "source": [
    "# TODO: Train and predict using two other models\n",
    "# TODO: Choose a model, import it and instantiate an object\n",
    "num_train_arr = [100,200,300]\n",
    "\n",
    "from sklearn.tree import DecisionTreeClassifier\n",
    "from sklearn.naive_bayes import BernoulliNB\n",
    "from sklearn.neighbors import KNeighborsClassifier\n",
    "\n",
    "dt_clf = DecisionTreeClassifier(random_state = 32)\n",
    "nb_clf = BernoulliNB()\n",
    "knn_clf = KNeighborsClassifier(metric='jaccard')\n",
    "clf_arr = [dt_clf,nb_clf,knn_clf]\n",
    "\n",
    "for clf in clf_arr:\n",
    "    for num_train in num_train_arr:\n",
    "        f1_dt = train_predict( clf , X_train[0:num_train], y_train[0:num_train], X_test, y_test )"
   ]
  },
  {
   "cell_type": "markdown",
   "metadata": {},
   "source": [
    "## 5. Choosing the Best Model\n",
    "\n",
    "- Based on the experiments you performed earlier, in 1-2 paragraphs explain to the board of supervisors what single model you chose as the best model. Which model is generally the most appropriate based on the available data, limited resources, cost, and performance?\n",
    "- In 1-2 paragraphs explain to the board of supervisors in layman's terms how the final model chosen is supposed to work (for example if you chose a Decision Tree or Support Vector Machine, how does it make a prediction).\n",
    "- Fine-tune the model. Use Gridsearch with at least one important parameter tuned and with at least 3 settings. Use the entire training set for this.\n",
    "- What is the model's final F<sub>1</sub> score?"
   ]
  },
  {
   "cell_type": "markdown",
   "metadata": {},
   "source": [
    "**Choice of model:** I've come to the conclusion that the k-nearest neighbors algorithm is best suited to the data.\n",
    "The $F_1$-scores for Naive Bayes and Decision trees seem to indicate both algorithms are suffering over-fit when we use the out-of-the-box implementations.  This is because the $F_1$-scores seem to vary by more than 0.15 when comparing the score of the test set vs the training set.  However, in the case of a training set of size 100, the $F_1$-score of k-nearest neighbors only varies by .036, which suggests that we are not suffering from over-fit.\n",
    "Moreover, the $F_1$ score on the test set is as high for k-nearest neighbors as it is for the other algorithms tested.\n",
    "A high $F_1$-score indicates:\n",
    "   1. When a student is likely to fail, our algorithm will suggest intervention (i.e. high recall)\n",
    "   2. When the algorithm suggests intervention, it is usually the case that he or she is in danger of failing (i.e. high precision)\n",
    "\n",
    "These are both things which we'd like to maximize in our intervention algorithm.\n",
    "\n",
    "  A potential draw-back of the k-nearest neighbors algorithm is that when there are many many records (e.g. 10,000) then the time it takes for the computer to determine intervention might get large (i.e. prediction for k-nearest neighbors does not scale well with data size).  This is not the case with support vector machines, which were the alternative algorithms which I tested.  However, the current data set consists of 395 students, a relatively small number.  Given 400 students every year, this will become a problem in about 25 years.  Actually, this is a decent example of an embarassingly parallelizable algorithm.  So this concern is really mute if one is willing to take advantage of parallelization.\n",
    "\n",
    "\n",
    "**How the model works:** The k-nearest neighbors algorithm works as follows.  Given a student, whom we'd like to determine weather or not to intervene, the algorithm will find k students in our data who are most similar (where similar is defined by a customizable distance function).  The algorithm will use the outcomes of these nearby students to compute a probability of intervention for the student in question, perhaps by a simple vote.\n",
    "\n",
    "** Fine tuning:**  One of the free parameters is what we use to measure the similarity between students.  This is given by a distance function. We can also vary k, the number of neighbors.  Below we consider 6 possible metrics, and k = 1,2,4,8,16,32,64. It appears the optimal metric (in terms of $F_1$-scores) is the Kulinski distance with and optimal k of 32.  The F<sub>1</sub> score of the optimal classifier is 0.774."
   ]
  },
  {
   "cell_type": "code",
   "execution_count": 12,
   "metadata": {
    "collapsed": false
   },
   "outputs": [
    {
     "name": "stdout",
     "output_type": "stream",
     "text": [
      "KNeighborsClassifier(algorithm='auto', leaf_size=30, metric='kulsinski',\n",
      "           metric_params=None, n_neighbors=32, p=2, weights='distance')\n",
      "f1 score = 0.774194\n"
     ]
    }
   ],
   "source": [
    "# TODO: Fine-tune your model and report the best F1 score, use GridSearch\n",
    "from sklearn.grid_search import GridSearchCV\n",
    "metrics = ['jaccard','matching','dice','kulsinski','rogerstanimoto','russellrao']\n",
    "k_list = map( lambda p: 2**p , range(6))\n",
    "parameters = { 'n_neighbors':k_list, 'weights':['uniform','distance'], 'metric':metrics}\n",
    "model = KNeighborsClassifier()\n",
    "from sklearn.metrics import make_scorer\n",
    "scorer = make_scorer( f1_score )\n",
    "clf = GridSearchCV( model , parameters , scoring = \"f1\" )\n",
    "clf.fit( X_train , y_train )\n",
    "print clf.best_estimator_\n",
    "print 'f1 score = {:f}'.format(f1_score( clf.predict(X_test) , y_test))"
   ]
  }
 ],
 "metadata": {
  "kernelspec": {
   "display_name": "Python 2",
   "language": "python",
   "name": "python2"
  },
  "language_info": {
   "codemirror_mode": {
    "name": "ipython",
    "version": 2
   },
   "file_extension": ".py",
   "mimetype": "text/x-python",
   "name": "python",
   "nbconvert_exporter": "python",
   "pygments_lexer": "ipython2",
   "version": "2.7.10"
  }
 },
 "nbformat": 4,
 "nbformat_minor": 0
}
